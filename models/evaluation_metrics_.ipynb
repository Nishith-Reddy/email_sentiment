{
 "cells": [
  {
   "cell_type": "code",
   "execution_count": null,
   "metadata": {
    "id": "n_xPyujtT8mS"
   },
   "outputs": [],
   "source": [
    "# Importing necessary libraries for data processing, analysis, and evaluation.\n",
    "import os\n",
    "import google.generativeai as genai\n",
    "from sklearn.metrics import classification_report\n",
    "import pandas as pd\n",
    "import seaborn as sns\n",
    "import matplotlib.pyplot as plt"
   ]
  },
  {
   "cell_type": "code",
   "execution_count": null,
   "metadata": {
    "id": "aH3r-kSxT8rT"
   },
   "outputs": [],
   "source": [
    "# Defining a function `email_analyzer` that takes a text input (`txt`) and analyzes it using a fine-tuned Generative AI model.\n",
    "def email_analyzer(txt):\n",
    "    # Retrieving the API key for Google Generative AI from the environment variables.\n",
    "    # This key is required for authenticating with the Generative AI service.\n",
    "    api_key = os.getenv(\"GENAI_API_KEY\")\n",
    "    \n",
    "    # Configuring the Generative AI library with the retrieved API key.\n",
    "    # This ensures that all requests made in this session are authenticated.\n",
    "    genai.configure(api_key=api_key)\n",
    "\n",
    "    # Defining the configuration for the generative model.\n",
    "    # These parameters control how the model generates responses.\n",
    "    generation_config = {\n",
    "        \"temperature\": 0.1,  # Controls randomness in the output; lower values produce more deterministic results.\n",
    "        \"top_p\": 0.95,      # Nucleus sampling: only considers tokens with cumulative probability <= top_p.\n",
    "        \"top_k\": 40,        # Top-k sampling: only considers the top_k tokens with the highest probabilities.\n",
    "        \"max_output_tokens\": 100,  # Specifies the maximum number of tokens (words, punctuation, etc.) in the output.\n",
    "        \"response_mime_type\": \"text/plain\",  # Ensures that the response is in plain text format.\n",
    "    }\n",
    "\n",
    "    # Initializing a generative model instance with a fine-tuned model.\n",
    "    # Replace \"tunedModels/finetunedata-kqn02hc20o4y\" with the specific name of your fine-tuned model.\n",
    "    model = genai.GenerativeModel(\n",
    "        model_name=\"tunedModels/finetunedata-kqn02hc20o4y\",  # Fine-tuned model identifier.\n",
    "        generation_config=generation_config,  # Configuration dict controlling the model's behavior.\n",
    "    )\n",
    "\n",
    "    # Starting a new chat session with the generative model.\n",
    "    # The `history` parameter provides context for the conversation but is empty here for a fresh start.\n",
    "    chat_session = model.start_chat(\n",
    "        history=[]  # No prior conversation history is provided.\n",
    "    )\n",
    "\n",
    "    # Sending the provided text (`txt`) to the model and receiving its response.\n",
    "    # The model processes the input text and generates a response based on the fine-tuned model.\n",
    "    response = chat_session.send_message(txt)\n",
    "\n",
    "    # Returning the text content of the model's response as the output of the function.\n",
    "    # The generated response is typically an analysis or interpretation of the input text.\n",
    "    return response.text\n"
   ]
  },
  {
   "cell_type": "code",
   "execution_count": 21,
   "metadata": {
    "id": "s6_0w062Uy23"
   },
   "outputs": [],
   "source": [
    "eval_df = pd.read_csv('eval_data.csv')"
   ]
  },
  {
   "cell_type": "code",
   "execution_count": 22,
   "metadata": {
    "colab": {
     "base_uri": "https://localhost:8080/",
     "height": 204
    },
    "id": "EAJZfyvGU-yc",
    "outputId": "1039e554-40ef-4eee-b3b9-1d548c462b0d"
   },
   "outputs": [
    {
     "data": {
      "application/vnd.google.colaboratory.intrinsic+json": {
       "summary": "{\n  \"name\": \"eval_df\",\n  \"rows\": 15,\n  \"fields\": [\n    {\n      \"column\": \"Email\",\n      \"properties\": {\n        \"dtype\": \"string\",\n        \"num_unique_values\": 15,\n        \"samples\": [\n          \"Apple hates us.. You know what's worse than a bruised apple? A broken iPhone. Military-grade drop protection.\",\n          \"Hello,\\n \\nI have already finished 1, 2, and 3 modules in Qooper. I also scheduled a one-on-one teams meeting with my mentor on October 7. I am not sure why I got this email. Could you kindly tell me if I am supposed to complete any other things?\\n\\nThank you \",\n          \"Are you safe from Duo?\\n \\nDid you learn enough this year to be safe from Duo? There\\u2019s only one way to find out. Update your app to the latest version to see your Year in Review.\"\n        ],\n        \"semantic_type\": \"\",\n        \"description\": \"\"\n      }\n    },\n    {\n      \"column\": \"Label\",\n      \"properties\": {\n        \"dtype\": \"category\",\n        \"num_unique_values\": 5,\n        \"samples\": [\n          \"positive informal\",\n          \"positive formal\",\n          \"neutral formal\"\n        ],\n        \"semantic_type\": \"\",\n        \"description\": \"\"\n      }\n    }\n  ]\n}",
       "type": "dataframe",
       "variable_name": "eval_df"
      },
      "text/html": [
       "\n",
       "  <div id=\"df-3b40d192-6c54-4904-8c21-68edd82b470c\" class=\"colab-df-container\">\n",
       "    <div>\n",
       "<style scoped>\n",
       "    .dataframe tbody tr th:only-of-type {\n",
       "        vertical-align: middle;\n",
       "    }\n",
       "\n",
       "    .dataframe tbody tr th {\n",
       "        vertical-align: top;\n",
       "    }\n",
       "\n",
       "    .dataframe thead th {\n",
       "        text-align: right;\n",
       "    }\n",
       "</style>\n",
       "<table border=\"1\" class=\"dataframe\">\n",
       "  <thead>\n",
       "    <tr style=\"text-align: right;\">\n",
       "      <th></th>\n",
       "      <th>Email</th>\n",
       "      <th>Label</th>\n",
       "    </tr>\n",
       "  </thead>\n",
       "  <tbody>\n",
       "    <tr>\n",
       "      <th>0</th>\n",
       "      <td>Are you safe from Duo?\\n \\nDid you learn enoug...</td>\n",
       "      <td>neutral informal</td>\n",
       "    </tr>\n",
       "    <tr>\n",
       "      <th>1</th>\n",
       "      <td>GM Crypto Fam,\\n \\nBig things are happening in...</td>\n",
       "      <td>positive informal</td>\n",
       "    </tr>\n",
       "    <tr>\n",
       "      <th>2</th>\n",
       "      <td>Welcome to dbdiagram.io, a free tool that help...</td>\n",
       "      <td>neutral formal</td>\n",
       "    </tr>\n",
       "    <tr>\n",
       "      <th>3</th>\n",
       "      <td>Hi there,\\n\\nI'm afraid I have some bad news —...</td>\n",
       "      <td>negative informal</td>\n",
       "    </tr>\n",
       "    <tr>\n",
       "      <th>4</th>\n",
       "      <td>New years provide new opportunities for growth...</td>\n",
       "      <td>positive informal</td>\n",
       "    </tr>\n",
       "  </tbody>\n",
       "</table>\n",
       "</div>\n",
       "    <div class=\"colab-df-buttons\">\n",
       "\n",
       "  <div class=\"colab-df-container\">\n",
       "    <button class=\"colab-df-convert\" onclick=\"convertToInteractive('df-3b40d192-6c54-4904-8c21-68edd82b470c')\"\n",
       "            title=\"Convert this dataframe to an interactive table.\"\n",
       "            style=\"display:none;\">\n",
       "\n",
       "  <svg xmlns=\"http://www.w3.org/2000/svg\" height=\"24px\" viewBox=\"0 -960 960 960\">\n",
       "    <path d=\"M120-120v-720h720v720H120Zm60-500h600v-160H180v160Zm220 220h160v-160H400v160Zm0 220h160v-160H400v160ZM180-400h160v-160H180v160Zm440 0h160v-160H620v160ZM180-180h160v-160H180v160Zm440 0h160v-160H620v160Z\"/>\n",
       "  </svg>\n",
       "    </button>\n",
       "\n",
       "  <style>\n",
       "    .colab-df-container {\n",
       "      display:flex;\n",
       "      gap: 12px;\n",
       "    }\n",
       "\n",
       "    .colab-df-convert {\n",
       "      background-color: #E8F0FE;\n",
       "      border: none;\n",
       "      border-radius: 50%;\n",
       "      cursor: pointer;\n",
       "      display: none;\n",
       "      fill: #1967D2;\n",
       "      height: 32px;\n",
       "      padding: 0 0 0 0;\n",
       "      width: 32px;\n",
       "    }\n",
       "\n",
       "    .colab-df-convert:hover {\n",
       "      background-color: #E2EBFA;\n",
       "      box-shadow: 0px 1px 2px rgba(60, 64, 67, 0.3), 0px 1px 3px 1px rgba(60, 64, 67, 0.15);\n",
       "      fill: #174EA6;\n",
       "    }\n",
       "\n",
       "    .colab-df-buttons div {\n",
       "      margin-bottom: 4px;\n",
       "    }\n",
       "\n",
       "    [theme=dark] .colab-df-convert {\n",
       "      background-color: #3B4455;\n",
       "      fill: #D2E3FC;\n",
       "    }\n",
       "\n",
       "    [theme=dark] .colab-df-convert:hover {\n",
       "      background-color: #434B5C;\n",
       "      box-shadow: 0px 1px 3px 1px rgba(0, 0, 0, 0.15);\n",
       "      filter: drop-shadow(0px 1px 2px rgba(0, 0, 0, 0.3));\n",
       "      fill: #FFFFFF;\n",
       "    }\n",
       "  </style>\n",
       "\n",
       "    <script>\n",
       "      const buttonEl =\n",
       "        document.querySelector('#df-3b40d192-6c54-4904-8c21-68edd82b470c button.colab-df-convert');\n",
       "      buttonEl.style.display =\n",
       "        google.colab.kernel.accessAllowed ? 'block' : 'none';\n",
       "\n",
       "      async function convertToInteractive(key) {\n",
       "        const element = document.querySelector('#df-3b40d192-6c54-4904-8c21-68edd82b470c');\n",
       "        const dataTable =\n",
       "          await google.colab.kernel.invokeFunction('convertToInteractive',\n",
       "                                                    [key], {});\n",
       "        if (!dataTable) return;\n",
       "\n",
       "        const docLinkHtml = 'Like what you see? Visit the ' +\n",
       "          '<a target=\"_blank\" href=https://colab.research.google.com/notebooks/data_table.ipynb>data table notebook</a>'\n",
       "          + ' to learn more about interactive tables.';\n",
       "        element.innerHTML = '';\n",
       "        dataTable['output_type'] = 'display_data';\n",
       "        await google.colab.output.renderOutput(dataTable, element);\n",
       "        const docLink = document.createElement('div');\n",
       "        docLink.innerHTML = docLinkHtml;\n",
       "        element.appendChild(docLink);\n",
       "      }\n",
       "    </script>\n",
       "  </div>\n",
       "\n",
       "\n",
       "<div id=\"df-5d37d90f-dec6-4a1d-b912-a9c3aea05057\">\n",
       "  <button class=\"colab-df-quickchart\" onclick=\"quickchart('df-5d37d90f-dec6-4a1d-b912-a9c3aea05057')\"\n",
       "            title=\"Suggest charts\"\n",
       "            style=\"display:none;\">\n",
       "\n",
       "<svg xmlns=\"http://www.w3.org/2000/svg\" height=\"24px\"viewBox=\"0 0 24 24\"\n",
       "     width=\"24px\">\n",
       "    <g>\n",
       "        <path d=\"M19 3H5c-1.1 0-2 .9-2 2v14c0 1.1.9 2 2 2h14c1.1 0 2-.9 2-2V5c0-1.1-.9-2-2-2zM9 17H7v-7h2v7zm4 0h-2V7h2v10zm4 0h-2v-4h2v4z\"/>\n",
       "    </g>\n",
       "</svg>\n",
       "  </button>\n",
       "\n",
       "<style>\n",
       "  .colab-df-quickchart {\n",
       "      --bg-color: #E8F0FE;\n",
       "      --fill-color: #1967D2;\n",
       "      --hover-bg-color: #E2EBFA;\n",
       "      --hover-fill-color: #174EA6;\n",
       "      --disabled-fill-color: #AAA;\n",
       "      --disabled-bg-color: #DDD;\n",
       "  }\n",
       "\n",
       "  [theme=dark] .colab-df-quickchart {\n",
       "      --bg-color: #3B4455;\n",
       "      --fill-color: #D2E3FC;\n",
       "      --hover-bg-color: #434B5C;\n",
       "      --hover-fill-color: #FFFFFF;\n",
       "      --disabled-bg-color: #3B4455;\n",
       "      --disabled-fill-color: #666;\n",
       "  }\n",
       "\n",
       "  .colab-df-quickchart {\n",
       "    background-color: var(--bg-color);\n",
       "    border: none;\n",
       "    border-radius: 50%;\n",
       "    cursor: pointer;\n",
       "    display: none;\n",
       "    fill: var(--fill-color);\n",
       "    height: 32px;\n",
       "    padding: 0;\n",
       "    width: 32px;\n",
       "  }\n",
       "\n",
       "  .colab-df-quickchart:hover {\n",
       "    background-color: var(--hover-bg-color);\n",
       "    box-shadow: 0 1px 2px rgba(60, 64, 67, 0.3), 0 1px 3px 1px rgba(60, 64, 67, 0.15);\n",
       "    fill: var(--button-hover-fill-color);\n",
       "  }\n",
       "\n",
       "  .colab-df-quickchart-complete:disabled,\n",
       "  .colab-df-quickchart-complete:disabled:hover {\n",
       "    background-color: var(--disabled-bg-color);\n",
       "    fill: var(--disabled-fill-color);\n",
       "    box-shadow: none;\n",
       "  }\n",
       "\n",
       "  .colab-df-spinner {\n",
       "    border: 2px solid var(--fill-color);\n",
       "    border-color: transparent;\n",
       "    border-bottom-color: var(--fill-color);\n",
       "    animation:\n",
       "      spin 1s steps(1) infinite;\n",
       "  }\n",
       "\n",
       "  @keyframes spin {\n",
       "    0% {\n",
       "      border-color: transparent;\n",
       "      border-bottom-color: var(--fill-color);\n",
       "      border-left-color: var(--fill-color);\n",
       "    }\n",
       "    20% {\n",
       "      border-color: transparent;\n",
       "      border-left-color: var(--fill-color);\n",
       "      border-top-color: var(--fill-color);\n",
       "    }\n",
       "    30% {\n",
       "      border-color: transparent;\n",
       "      border-left-color: var(--fill-color);\n",
       "      border-top-color: var(--fill-color);\n",
       "      border-right-color: var(--fill-color);\n",
       "    }\n",
       "    40% {\n",
       "      border-color: transparent;\n",
       "      border-right-color: var(--fill-color);\n",
       "      border-top-color: var(--fill-color);\n",
       "    }\n",
       "    60% {\n",
       "      border-color: transparent;\n",
       "      border-right-color: var(--fill-color);\n",
       "    }\n",
       "    80% {\n",
       "      border-color: transparent;\n",
       "      border-right-color: var(--fill-color);\n",
       "      border-bottom-color: var(--fill-color);\n",
       "    }\n",
       "    90% {\n",
       "      border-color: transparent;\n",
       "      border-bottom-color: var(--fill-color);\n",
       "    }\n",
       "  }\n",
       "</style>\n",
       "\n",
       "  <script>\n",
       "    async function quickchart(key) {\n",
       "      const quickchartButtonEl =\n",
       "        document.querySelector('#' + key + ' button');\n",
       "      quickchartButtonEl.disabled = true;  // To prevent multiple clicks.\n",
       "      quickchartButtonEl.classList.add('colab-df-spinner');\n",
       "      try {\n",
       "        const charts = await google.colab.kernel.invokeFunction(\n",
       "            'suggestCharts', [key], {});\n",
       "      } catch (error) {\n",
       "        console.error('Error during call to suggestCharts:', error);\n",
       "      }\n",
       "      quickchartButtonEl.classList.remove('colab-df-spinner');\n",
       "      quickchartButtonEl.classList.add('colab-df-quickchart-complete');\n",
       "    }\n",
       "    (() => {\n",
       "      let quickchartButtonEl =\n",
       "        document.querySelector('#df-5d37d90f-dec6-4a1d-b912-a9c3aea05057 button');\n",
       "      quickchartButtonEl.style.display =\n",
       "        google.colab.kernel.accessAllowed ? 'block' : 'none';\n",
       "    })();\n",
       "  </script>\n",
       "</div>\n",
       "\n",
       "    </div>\n",
       "  </div>\n"
      ],
      "text/plain": [
       "                                               Email              Label\n",
       "0  Are you safe from Duo?\\n \\nDid you learn enoug...   neutral informal\n",
       "1  GM Crypto Fam,\\n \\nBig things are happening in...  positive informal\n",
       "2  Welcome to dbdiagram.io, a free tool that help...     neutral formal\n",
       "3  Hi there,\\n\\nI'm afraid I have some bad news —...  negative informal\n",
       "4  New years provide new opportunities for growth...  positive informal"
      ]
     },
     "execution_count": 22,
     "metadata": {},
     "output_type": "execute_result"
    }
   ],
   "source": [
    "eval_df.head()"
   ]
  },
  {
   "cell_type": "code",
   "execution_count": 23,
   "metadata": {
    "id": "Xy3qCQWaVBHo"
   },
   "outputs": [],
   "source": [
    "eval_df['Analyzed_label'] =  eval_df['Email'].apply(email_analyzer)"
   ]
  },
  {
   "cell_type": "code",
   "execution_count": 24,
   "metadata": {
    "colab": {
     "base_uri": "https://localhost:8080/"
    },
    "id": "l98OKUqbVnSG",
    "outputId": "efbbd22b-e236-40d8-8b89-88337e096a90"
   },
   "outputs": [
    {
     "name": "stdout",
     "output_type": "stream",
     "text": [
      "                   precision    recall  f1-score    support\n",
      "negative informal   1.000000  0.750000  0.857143   4.000000\n",
      "neutral formal      1.000000  0.800000  0.888889   5.000000\n",
      "neutral informal    0.500000  1.000000  0.666667   1.000000\n",
      "positive formal     1.000000  1.000000  1.000000   1.000000\n",
      "positive informal   0.800000  1.000000  0.888889   4.000000\n",
      "accuracy            0.866667  0.866667  0.866667   0.866667\n",
      "macro avg           0.860000  0.910000  0.860317  15.000000\n",
      "weighted avg        0.913333  0.866667  0.873016  15.000000\n"
     ]
    }
   ],
   "source": [
    "# Creating a detailed classification report, including precision, recall, F1 score, and support for each class.\n",
    "# Generate classification report as a dictionary\n",
    "report = classification_report(eval_df['Label'], eval_df['Analyzed_label'], output_dict=True)\n",
    "\n",
    "# Convert to DataFrame\n",
    "report_df = pd.DataFrame(report).transpose()\n",
    "\n",
    "# Print DataFrame to verify\n",
    "print(report_df)"
   ]
  },
  {
   "cell_type": "code",
   "execution_count": 25,
   "metadata": {
    "colab": {
     "base_uri": "https://localhost:8080/",
     "height": 545
    },
    "id": "b1pV_QTnV8K1",
    "outputId": "76284826-2063-4ab9-e900-00878c6ffb99"
   },
   "outputs": [
    {
     "data": {
      "image/png": "[encoded data removed]",
      "text/plain": [
       "<Figure size 1000x600 with 2 Axes>"
      ]
     },
     "metadata": {},
     "output_type": "display_data"
    }
   ],
   "source": [
    "plt.figure(figsize=(10, 6))\n",
    "sns.heatmap(report_df.iloc[:-1, :-1], annot=True, cmap=\"Blues\", fmt=\".2f\")\n",
    "plt.title(\"Classification Report\")\n",
    "plt.show()"
   ]
  },
  {
   "cell_type": "code",
   "execution_count": 26,
   "metadata": {
    "id": "mlsC0l5LWoVN"
   },
   "outputs": [],
   "source": [
    "eval_df_with_pred = eval_df.copy()"
   ]
  },
  {
   "cell_type": "code",
   "execution_count": 27,
   "metadata": {
    "id": "NE1z-oY2Wujy"
   },
   "outputs": [],
   "source": [
    "eval_df_with_pred.to_csv('eval_df_with_pred.csv')"
   ]
  },
  {
   "cell_type": "code",
   "execution_count": 13,
   "metadata": {
    "id": "W-jfmUceWzr-"
   },
   "outputs": [],
   "source": [
    "eval_df_with_pred = pd.read_csv(\"eval_df_with_pred.csv\", index_col='Unnamed: 0')"
   ]
  },
  {
   "cell_type": "code",
   "execution_count": 15,
   "metadata": {},
   "outputs": [
    {
     "data": {
      "image/png": "[encoded data removed]",
      "text/plain": [
       "<Figure size 800x600 with 2 Axes>"
      ]
     },
     "metadata": {},
     "output_type": "display_data"
    }
   ],
   "source": [
    "# Importing necessary libraries for data processing, analysis, and evaluation.\n",
    "from sklearn.metrics import confusion_matrix\n",
    "import numpy as np\n",
    "\n",
    "# Generate confusion matrix\n",
    "cm = confusion_matrix(eval_df_with_pred['Label'], eval_df_with_pred['Analyzed_label'])\n",
    "\n",
    "# Plot the confusion matrix\n",
    "plt.figure(figsize=(8, 6))\n",
    "sns.heatmap(cm, annot=True, fmt=\"d\", cmap=\"YlGnBu\", xticklabels=sorted(eval_df_with_pred['Label'].unique()), yticklabels=sorted(eval_df_with_pred['Label'].unique()))\n",
    "plt.xlabel(\"Predicted\")\n",
    "plt.ylabel(\"True\")\n",
    "plt.title(\"Confusion Matrix\")\n",
    "plt.show()\n"
   ]
  },
  {
   "cell_type": "code",
   "execution_count": 16,
   "metadata": {},
   "outputs": [
    {
     "data": {
      "text/html": [
       "<div>\n",
       "<style scoped>\n",
       "    .dataframe tbody tr th:only-of-type {\n",
       "        vertical-align: middle;\n",
       "    }\n",
       "\n",
       "    .dataframe tbody tr th {\n",
       "        vertical-align: top;\n",
       "    }\n",
       "\n",
       "    .dataframe thead th {\n",
       "        text-align: right;\n",
       "    }\n",
       "</style>\n",
       "<table border=\"1\" class=\"dataframe\">\n",
       "  <thead>\n",
       "    <tr style=\"text-align: right;\">\n",
       "      <th></th>\n",
       "      <th>Email</th>\n",
       "      <th>Label</th>\n",
       "      <th>Analyzed_label</th>\n",
       "    </tr>\n",
       "  </thead>\n",
       "  <tbody>\n",
       "    <tr>\n",
       "      <th>2</th>\n",
       "      <td>Welcome to dbdiagram.io, a free tool that help...</td>\n",
       "      <td>neutral formal</td>\n",
       "      <td>positive informal</td>\n",
       "    </tr>\n",
       "    <tr>\n",
       "      <th>3</th>\n",
       "      <td>Hi there,\\n\\nI'm afraid I have some bad news —...</td>\n",
       "      <td>negative informal</td>\n",
       "      <td>neutral informal</td>\n",
       "    </tr>\n",
       "  </tbody>\n",
       "</table>\n",
       "</div>"
      ],
      "text/plain": [
       "                                               Email              Label  \\\n",
       "2  Welcome to dbdiagram.io, a free tool that help...     neutral formal   \n",
       "3  Hi there,\\n\\nI'm afraid I have some bad news —...  negative informal   \n",
       "\n",
       "      Analyzed_label  \n",
       "2  positive informal  \n",
       "3   neutral informal  "
      ]
     },
     "execution_count": 16,
     "metadata": {},
     "output_type": "execute_result"
    }
   ],
   "source": [
    "mislabeled_rows = eval_df_with_pred.loc[eval_df_with_pred['Label'] != eval_df_with_pred['Analyzed_label']]\n",
    "mislabeled_rows"
   ]
  },
  {
   "cell_type": "code",
   "execution_count": null,
   "metadata": {},
   "outputs": [],
   "source": []
  }
 ],
 "metadata": {
  "accelerator": "GPU",
  "colab": {
   "gpuType": "T4",
   "provenance": []
  },
  "kernelspec": {
   "display_name": "base",
   "language": "python",
   "name": "python3"
  },
  "language_info": {
   "codemirror_mode": {
    "name": "ipython",
    "version": 3
   },
   "file_extension": ".py",
   "mimetype": "text/x-python",
   "name": "python",
   "nbconvert_exporter": "python",
   "pygments_lexer": "ipython3",
   "version": "3.11.4"
  }
 },
 "nbformat": 4,
 "nbformat_minor": 0
}
