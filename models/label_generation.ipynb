{
 "cells": [
  {
   "cell_type": "code",
   "execution_count": 74,
   "metadata": {
    "id": "wXapyHKnIpA9"
   },
   "outputs": [],
   "source": [
    "# Importing the pandas library for data manipulation and analysis.\n",
    "import pandas as pd"
   ]
  },
  {
   "cell_type": "code",
   "execution_count": 75,
   "metadata": {
    "id": "OkObzqleI8mX"
   },
   "outputs": [],
   "source": [
    "# Loading the email data from a tab-separated text file into a pandas DataFrame.\n",
    "# The file 'email.txt' contains email information. Columns are specified for better readability.\n",
    "email_data = pd.read_csv('email.txt', sep='\\t', names=['temp', 'email_body'])"
   ]
  },
  {
   "cell_type": "code",
   "execution_count": 76,
   "metadata": {
    "colab": {
     "base_uri": "https://localhost:8080/",
     "height": 204
    },
    "id": "FVH03smeJMLf",
    "outputId": "85ceb92a-c318-4bd0-bd9c-860726ae2748"
   },
   "outputs": [
    {
     "data": {
      "text/html": [
       "<div>\n",
       "<style scoped>\n",
       "    .dataframe tbody tr th:only-of-type {\n",
       "        vertical-align: middle;\n",
       "    }\n",
       "\n",
       "    .dataframe tbody tr th {\n",
       "        vertical-align: top;\n",
       "    }\n",
       "\n",
       "    .dataframe thead th {\n",
       "        text-align: right;\n",
       "    }\n",
       "</style>\n",
       "<table border=\"1\" class=\"dataframe\">\n",
       "  <thead>\n",
       "    <tr style=\"text-align: right;\">\n",
       "      <th></th>\n",
       "      <th>temp</th>\n",
       "      <th>email_body</th>\n",
       "    </tr>\n",
       "  </thead>\n",
       "  <tbody>\n",
       "    <tr>\n",
       "      <th>0</th>\n",
       "      <td>No</td>\n",
       "      <td>I look forward to meeting you and learning abo...</td>\n",
       "    </tr>\n",
       "    <tr>\n",
       "      <th>1</th>\n",
       "      <td>No</td>\n",
       "      <td>We look forward to seeing you next week!</td>\n",
       "    </tr>\n",
       "    <tr>\n",
       "      <th>2</th>\n",
       "      <td>No</td>\n",
       "      <td>A quick question before our meeting.</td>\n",
       "    </tr>\n",
       "    <tr>\n",
       "      <th>3</th>\n",
       "      <td>No</td>\n",
       "      <td>After sunning and drinking all day we feasted ...</td>\n",
       "    </tr>\n",
       "    <tr>\n",
       "      <th>4</th>\n",
       "      <td>No</td>\n",
       "      <td>Also Tuesday, Kyle and Eric 1/2 hour.</td>\n",
       "    </tr>\n",
       "  </tbody>\n",
       "</table>\n",
       "</div>"
      ],
      "text/plain": [
       "  temp                                         email_body\n",
       "0   No  I look forward to meeting you and learning abo...\n",
       "1   No           We look forward to seeing you next week!\n",
       "2   No               A quick question before our meeting.\n",
       "3   No  After sunning and drinking all day we feasted ...\n",
       "4   No              Also Tuesday, Kyle and Eric 1/2 hour."
      ]
     },
     "execution_count": 76,
     "metadata": {},
     "output_type": "execute_result"
    }
   ],
   "source": [
    "# Displaying the first few rows of the loaded DataFrame to understand its structure and data.\n",
    "email_data.head()"
   ]
  },
  {
   "cell_type": "code",
   "execution_count": 77,
   "metadata": {
    "id": "LvrnXsu6KYlg"
   },
   "outputs": [],
   "source": [
    "# Dropping the 'temp' column from the DataFrame as it is not needed for further analysis.\n",
    "email_data.drop('temp', axis = 1, inplace = True)"
   ]
  },
  {
   "cell_type": "code",
   "execution_count": 95,
   "metadata": {
    "colab": {
     "base_uri": "https://localhost:8080/"
    },
    "id": "cvMhopr-JOHK",
    "outputId": "1f9ca8bd-1ccb-4144-dbbe-10390a634b99"
   },
   "outputs": [
    {
     "name": "stderr",
     "output_type": "stream",
     "text": [
      "Xformers is not installed correctly. If you want to use memorry_efficient_attention to accelerate training use the following command to install Xformers\n",
      "pip install xformers.\n"
     ]
    }
   ],
   "source": [
    "# Importing the pipeline module from the transformers library to use a pre-trained sentiment analysis model.\n",
    "# The model used is 'cardiffnlp/twitter-roberta-base-sentiment', optimized for sentiment detection.\n",
    "from transformers import pipeline\n",
    "\n",
    "sentiment_analyzer = pipeline(\"sentiment-analysis\", model=\"cardiffnlp/twitter-roberta-base-sentiment\", framework = 'pt')"
   ]
  },
  {
   "cell_type": "code",
   "execution_count": 96,
   "metadata": {
    "id": "LvfnrQvBJsP7"
   },
   "outputs": [],
   "source": [
    "# Applying the sentiment analysis pipeline to each email body in the DataFrame.\n",
    "# The sentiment label (e.g., positive, neutral, negative) is extracted for each email.\n",
    "email_data['sentiment'] = email_data['email_body'].apply(lambda x: sentiment_analyzer(x)[0]['label'])\n"
   ]
  },
  {
   "cell_type": "code",
   "execution_count": 97,
   "metadata": {
    "colab": {
     "base_uri": "https://localhost:8080/",
     "height": 204
    },
    "id": "wGjaB2v3Lh_O",
    "outputId": "642e2995-b920-4eb6-fc7d-0f9d66f0769d"
   },
   "outputs": [
    {
     "data": {
      "text/html": [
       "<div>\n",
       "<style scoped>\n",
       "    .dataframe tbody tr th:only-of-type {\n",
       "        vertical-align: middle;\n",
       "    }\n",
       "\n",
       "    .dataframe tbody tr th {\n",
       "        vertical-align: top;\n",
       "    }\n",
       "\n",
       "    .dataframe thead th {\n",
       "        text-align: right;\n",
       "    }\n",
       "</style>\n",
       "<table border=\"1\" class=\"dataframe\">\n",
       "  <thead>\n",
       "    <tr style=\"text-align: right;\">\n",
       "      <th></th>\n",
       "      <th>email_body</th>\n",
       "      <th>sentiment</th>\n",
       "    </tr>\n",
       "  </thead>\n",
       "  <tbody>\n",
       "    <tr>\n",
       "      <th>0</th>\n",
       "      <td>I look forward to meeting you and learning abo...</td>\n",
       "      <td>LABEL_2</td>\n",
       "    </tr>\n",
       "    <tr>\n",
       "      <th>1</th>\n",
       "      <td>We look forward to seeing you next week!</td>\n",
       "      <td>LABEL_2</td>\n",
       "    </tr>\n",
       "    <tr>\n",
       "      <th>2</th>\n",
       "      <td>A quick question before our meeting.</td>\n",
       "      <td>LABEL_1</td>\n",
       "    </tr>\n",
       "    <tr>\n",
       "      <th>3</th>\n",
       "      <td>After sunning and drinking all day we feasted ...</td>\n",
       "      <td>LABEL_2</td>\n",
       "    </tr>\n",
       "    <tr>\n",
       "      <th>4</th>\n",
       "      <td>Also Tuesday, Kyle and Eric 1/2 hour.</td>\n",
       "      <td>LABEL_1</td>\n",
       "    </tr>\n",
       "  </tbody>\n",
       "</table>\n",
       "</div>"
      ],
      "text/plain": [
       "                                          email_body sentiment\n",
       "0  I look forward to meeting you and learning abo...   LABEL_2\n",
       "1           We look forward to seeing you next week!   LABEL_2\n",
       "2               A quick question before our meeting.   LABEL_1\n",
       "3  After sunning and drinking all day we feasted ...   LABEL_2\n",
       "4              Also Tuesday, Kyle and Eric 1/2 hour.   LABEL_1"
      ]
     },
     "execution_count": 97,
     "metadata": {},
     "output_type": "execute_result"
    }
   ],
   "source": [
    "# Displaying the first few rows of the loaded DataFrame to understand its structure and data.\n",
    "email_data.head()"
   ]
  },
  {
   "cell_type": "code",
   "execution_count": 98,
   "metadata": {
    "id": "vC4KZhLUKxqi"
   },
   "outputs": [],
   "source": [
    "# Mapping the sentiment labels from the model's format (LABEL_0, LABEL_1, LABEL_2) to more readable labels.\n",
    "labels = {\"LABEL_0\": 'negative', \"LABEL_1\": 'neutral', \"LABEL_2\": 'positive'}\n",
    "email_data['sentiment'] = email_data['sentiment'].map(labels)"
   ]
  },
  {
   "cell_type": "code",
   "execution_count": 99,
   "metadata": {
    "colab": {
     "base_uri": "https://localhost:8080/",
     "height": 204
    },
    "id": "uitoyPpcM6nd",
    "outputId": "eec6d64c-9e5a-42b5-e59c-39947e5d54e2"
   },
   "outputs": [
    {
     "data": {
      "text/html": [
       "<div>\n",
       "<style scoped>\n",
       "    .dataframe tbody tr th:only-of-type {\n",
       "        vertical-align: middle;\n",
       "    }\n",
       "\n",
       "    .dataframe tbody tr th {\n",
       "        vertical-align: top;\n",
       "    }\n",
       "\n",
       "    .dataframe thead th {\n",
       "        text-align: right;\n",
       "    }\n",
       "</style>\n",
       "<table border=\"1\" class=\"dataframe\">\n",
       "  <thead>\n",
       "    <tr style=\"text-align: right;\">\n",
       "      <th></th>\n",
       "      <th>email_body</th>\n",
       "      <th>sentiment</th>\n",
       "    </tr>\n",
       "  </thead>\n",
       "  <tbody>\n",
       "    <tr>\n",
       "      <th>0</th>\n",
       "      <td>I look forward to meeting you and learning abo...</td>\n",
       "      <td>positive</td>\n",
       "    </tr>\n",
       "    <tr>\n",
       "      <th>1</th>\n",
       "      <td>We look forward to seeing you next week!</td>\n",
       "      <td>positive</td>\n",
       "    </tr>\n",
       "    <tr>\n",
       "      <th>2</th>\n",
       "      <td>A quick question before our meeting.</td>\n",
       "      <td>neutral</td>\n",
       "    </tr>\n",
       "    <tr>\n",
       "      <th>3</th>\n",
       "      <td>After sunning and drinking all day we feasted ...</td>\n",
       "      <td>positive</td>\n",
       "    </tr>\n",
       "    <tr>\n",
       "      <th>4</th>\n",
       "      <td>Also Tuesday, Kyle and Eric 1/2 hour.</td>\n",
       "      <td>neutral</td>\n",
       "    </tr>\n",
       "  </tbody>\n",
       "</table>\n",
       "</div>"
      ],
      "text/plain": [
       "                                          email_body sentiment\n",
       "0  I look forward to meeting you and learning abo...  positive\n",
       "1           We look forward to seeing you next week!  positive\n",
       "2               A quick question before our meeting.   neutral\n",
       "3  After sunning and drinking all day we feasted ...  positive\n",
       "4              Also Tuesday, Kyle and Eric 1/2 hour.   neutral"
      ]
     },
     "execution_count": 99,
     "metadata": {},
     "output_type": "execute_result"
    }
   ],
   "source": [
    "# Displaying the first few rows of the loaded DataFrame to understand its structure and data.\n",
    "email_data.head()"
   ]
  },
  {
   "cell_type": "code",
   "execution_count": null,
   "metadata": {},
   "outputs": [],
   "source": [
    "# Defining a function to detect the formality of a given text using the Groq API.\n",
    "# The API call checks if the text is 'formal' or 'informal' based on the model's output.\n",
    "\n",
    "from groq import Groq\n",
    "\n",
    "def detect_formality(text):\n",
    "    api_key = os.getenv(\"GROQ_API_KEY\")\n",
    "    client = Groq(api_key=api_key)\n",
    "    completion = client.chat.completions.create(\n",
    "        model=\"llama-3.1-70b-versatile\",\n",
    "        messages=[\n",
    "            {\n",
    "                \"role\": \"user\",\n",
    "                \"content\": f\"tell if this text is formal or not in one word '{text}'\"\n",
    "                },\n",
    "            {\n",
    "                \"role\": \"assistant\",\n",
    "                }\n",
    "            ],\n",
    "        temperature=0.2,\n",
    "        max_tokens=100,\n",
    "        top_p=1,\n",
    "        stream=True,\n",
    "        stop=None,\n",
    "        )\n",
    "    res = \"\"\n",
    "    for chunk in completion:\n",
    "        res += chunk.choices[0].delta.content or \"\"\n",
    "    return res"
   ]
  },
  {
   "cell_type": "code",
   "execution_count": 118,
   "metadata": {},
   "outputs": [],
   "source": [
    "# Defining a function to detect the formality of a given text using the Groq API.\n",
    "# The API call checks if the text is 'formal' or 'informal' based on the model's output.\n",
    "email_data['formality'] = email_data['email_body'].apply(detect_formality)"
   ]
  },
  {
   "cell_type": "code",
   "execution_count": 119,
   "metadata": {},
   "outputs": [
    {
     "data": {
      "text/html": [
       "<div>\n",
       "<style scoped>\n",
       "    .dataframe tbody tr th:only-of-type {\n",
       "        vertical-align: middle;\n",
       "    }\n",
       "\n",
       "    .dataframe tbody tr th {\n",
       "        vertical-align: top;\n",
       "    }\n",
       "\n",
       "    .dataframe thead th {\n",
       "        text-align: right;\n",
       "    }\n",
       "</style>\n",
       "<table border=\"1\" class=\"dataframe\">\n",
       "  <thead>\n",
       "    <tr style=\"text-align: right;\">\n",
       "      <th></th>\n",
       "      <th>email_body</th>\n",
       "      <th>sentiment</th>\n",
       "      <th>formality</th>\n",
       "    </tr>\n",
       "  </thead>\n",
       "  <tbody>\n",
       "    <tr>\n",
       "      <th>0</th>\n",
       "      <td>I look forward to meeting you and learning abo...</td>\n",
       "      <td>positive</td>\n",
       "      <td>Formal.</td>\n",
       "    </tr>\n",
       "    <tr>\n",
       "      <th>1</th>\n",
       "      <td>We look forward to seeing you next week!</td>\n",
       "      <td>positive</td>\n",
       "      <td>Formal</td>\n",
       "    </tr>\n",
       "    <tr>\n",
       "      <th>2</th>\n",
       "      <td>A quick question before our meeting.</td>\n",
       "      <td>neutral</td>\n",
       "      <td>Informal.</td>\n",
       "    </tr>\n",
       "    <tr>\n",
       "      <th>3</th>\n",
       "      <td>After sunning and drinking all day we feasted ...</td>\n",
       "      <td>positive</td>\n",
       "      <td>Informal.</td>\n",
       "    </tr>\n",
       "    <tr>\n",
       "      <th>4</th>\n",
       "      <td>Also Tuesday, Kyle and Eric 1/2 hour.</td>\n",
       "      <td>neutral</td>\n",
       "      <td>Informal</td>\n",
       "    </tr>\n",
       "  </tbody>\n",
       "</table>\n",
       "</div>"
      ],
      "text/plain": [
       "                                          email_body sentiment  formality\n",
       "0  I look forward to meeting you and learning abo...  positive    Formal.\n",
       "1           We look forward to seeing you next week!  positive     Formal\n",
       "2               A quick question before our meeting.   neutral  Informal.\n",
       "3  After sunning and drinking all day we feasted ...  positive  Informal.\n",
       "4              Also Tuesday, Kyle and Eric 1/2 hour.   neutral   Informal"
      ]
     },
     "execution_count": 119,
     "metadata": {},
     "output_type": "execute_result"
    }
   ],
   "source": [
    "# Displaying the first few rows of the loaded DataFrame to understand its structure and data.\n",
    "email_data.head()"
   ]
  },
  {
   "cell_type": "code",
   "execution_count": 120,
   "metadata": {},
   "outputs": [
    {
     "data": {
      "text/plain": [
       "formality\n",
       "Informal     371\n",
       "Formal.      281\n",
       "Informal.    231\n",
       "Formal       109\n",
       "Name: count, dtype: int64"
      ]
     },
     "execution_count": 120,
     "metadata": {},
     "output_type": "execute_result"
    }
   ],
   "source": [
    "# Counting the occurrences of each formality type (formal and informal) in the dataset.\n",
    "email_data.formality.value_counts()"
   ]
  },
  {
   "cell_type": "code",
   "execution_count": 124,
   "metadata": {},
   "outputs": [],
   "source": [
    "email_data['formality'].replace(['Formal.', 'Formal'], 'formal', inplace = True)\n",
    "email_data['formality'].replace(['Informal.', 'Informal'], 'informal', inplace = True)\n"
   ]
  },
  {
   "cell_type": "code",
   "execution_count": 125,
   "metadata": {},
   "outputs": [
    {
     "data": {
      "text/plain": [
       "formality\n",
       "informal    602\n",
       "formal      390\n",
       "Name: count, dtype: int64"
      ]
     },
     "execution_count": 125,
     "metadata": {},
     "output_type": "execute_result"
    }
   ],
   "source": [
    "# Counting the occurrences of each formality type (formal and informal) in the dataset.\n",
    "email_data.formality.value_counts()"
   ]
  },
  {
   "cell_type": "code",
   "execution_count": 130,
   "metadata": {},
   "outputs": [],
   "source": [
    "email_data.to_csv('email_data_labels.csv')"
   ]
  },
  {
   "cell_type": "code",
   "execution_count": 131,
   "metadata": {},
   "outputs": [],
   "source": [
    "fine_tune_data = pd.read_csv('email_data_labels_after_correction.csv')"
   ]
  },
  {
   "cell_type": "code",
   "execution_count": 135,
   "metadata": {},
   "outputs": [],
   "source": [
    "# Creating a combined output column that merges sentiment and formality for fine-tuning preparation.\n",
    "fine_tune_data['output'] = fine_tune_data['sentiment']+\" \"+fine_tune_data['formality']"
   ]
  },
  {
   "cell_type": "code",
   "execution_count": 138,
   "metadata": {},
   "outputs": [],
   "source": [
    "fine_tune_data.drop(['Unnamed: 0', 'sentiment', 'formality'], axis=1,inplace=True)"
   ]
  },
  {
   "cell_type": "code",
   "execution_count": 140,
   "metadata": {},
   "outputs": [],
   "source": [
    "fine_tune_data = fine_tune_data.rename(columns={'email_body':'input'})"
   ]
  },
  {
   "cell_type": "code",
   "execution_count": 141,
   "metadata": {},
   "outputs": [
    {
     "data": {
      "text/html": [
       "<div>\n",
       "<style scoped>\n",
       "    .dataframe tbody tr th:only-of-type {\n",
       "        vertical-align: middle;\n",
       "    }\n",
       "\n",
       "    .dataframe tbody tr th {\n",
       "        vertical-align: top;\n",
       "    }\n",
       "\n",
       "    .dataframe thead th {\n",
       "        text-align: right;\n",
       "    }\n",
       "</style>\n",
       "<table border=\"1\" class=\"dataframe\">\n",
       "  <thead>\n",
       "    <tr style=\"text-align: right;\">\n",
       "      <th></th>\n",
       "      <th>input</th>\n",
       "      <th>output</th>\n",
       "    </tr>\n",
       "  </thead>\n",
       "  <tbody>\n",
       "    <tr>\n",
       "      <th>0</th>\n",
       "      <td>I look forward to meeting you and learning abo...</td>\n",
       "      <td>positive formal</td>\n",
       "    </tr>\n",
       "    <tr>\n",
       "      <th>1</th>\n",
       "      <td>We look forward to seeing you next week!</td>\n",
       "      <td>positive formal</td>\n",
       "    </tr>\n",
       "    <tr>\n",
       "      <th>2</th>\n",
       "      <td>A quick question before our meeting.</td>\n",
       "      <td>neutral informal</td>\n",
       "    </tr>\n",
       "    <tr>\n",
       "      <th>3</th>\n",
       "      <td>After sunning and drinking all day we feasted ...</td>\n",
       "      <td>positive informal</td>\n",
       "    </tr>\n",
       "    <tr>\n",
       "      <th>4</th>\n",
       "      <td>Also Tuesday, Kyle and Eric 1/2 hour.</td>\n",
       "      <td>neutral informal</td>\n",
       "    </tr>\n",
       "  </tbody>\n",
       "</table>\n",
       "</div>"
      ],
      "text/plain": [
       "                                               input             output\n",
       "0  I look forward to meeting you and learning abo...    positive formal\n",
       "1           We look forward to seeing you next week!    positive formal\n",
       "2               A quick question before our meeting.   neutral informal\n",
       "3  After sunning and drinking all day we feasted ...  positive informal\n",
       "4              Also Tuesday, Kyle and Eric 1/2 hour.   neutral informal"
      ]
     },
     "execution_count": 141,
     "metadata": {},
     "output_type": "execute_result"
    }
   ],
   "source": [
    "fine_tune_data.head()"
   ]
  },
  {
   "cell_type": "code",
   "execution_count": null,
   "metadata": {},
   "outputs": [],
   "source": [
    "# Saving the processed DataFrame to a CSV file for further use in fine-tuning a model.\n",
    "fine_tune_data.to_csv('fine_tune_data.csv')"
   ]
  },
  {
   "cell_type": "code",
   "execution_count": null,
   "metadata": {},
   "outputs": [],
   "source": []
  }
 ],
 "metadata": {
  "accelerator": "GPU",
  "colab": {
   "gpuType": "T4",
   "provenance": []
  },
  "kernelspec": {
   "display_name": "base",
   "language": "python",
   "name": "python3"
  },
  "language_info": {
   "codemirror_mode": {
    "name": "ipython",
    "version": 3
   },
   "file_extension": ".py",
   "mimetype": "text/x-python",
   "name": "python",
   "nbconvert_exporter": "python",
   "pygments_lexer": "ipython3",
   "version": "3.11.4"
  }
 },
 "nbformat": 4,
 "nbformat_minor": 4
}
